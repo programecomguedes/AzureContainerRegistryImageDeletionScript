{
 "cells": [
  {
   "cell_type": "code",
   "execution_count": null,
   "id": "1cd2ea3e",
   "metadata": {},
   "outputs": [],
   "source": [
    "# !pip install --pre azure-containerregistry\n",
    "# !pip install azure-containerregistry\n",
    "# !pip install azure-identity"
   ]
  },
  {
   "cell_type": "code",
   "execution_count": null,
   "id": "413fcb42",
   "metadata": {},
   "outputs": [],
   "source": [
    "# Create a ContainerRegistryClient that will authenticate through Active Directory\n",
    "from azure.containerregistry import ContainerRegistryClient\n",
    "from azure.identity import DefaultAzureCredential\n",
    "\n",
    "endpoint = \"CONTAINER_REGISTRY_NAME.azurecr.io\"\n",
    "audience = \"https://management.azure.com\"\n",
    "client = ContainerRegistryClient(endpoint, DefaultAzureCredential(), audience=audience)"
   ]
  },
  {
   "cell_type": "code",
   "execution_count": null,
   "id": "4b1ca759",
   "metadata": {},
   "outputs": [],
   "source": [
    "repositories = []"
   ]
  },
  {
   "cell_type": "code",
   "execution_count": null,
   "id": "2dc4341b",
   "metadata": {},
   "outputs": [],
   "source": [
    "for repository_name in client.list_repository_names():\n",
    "    # this if is optional. used to filter some specific repositories.\n",
    "    if repository_name.startswith(\"FILTER_ONE\") or repository_name.startswith(\"FILTER_TWO\"):\n",
    "        repositories.append({\"name\": repository_name})"
   ]
  },
  {
   "cell_type": "code",
   "execution_count": null,
   "id": "516385d4",
   "metadata": {},
   "outputs": [],
   "source": [
    "#print(repositories)"
   ]
  },
  {
   "cell_type": "code",
   "execution_count": null,
   "id": "77b2ae43",
   "metadata": {},
   "outputs": [],
   "source": [
    "from datetime import datetime, timedelta\n",
    "\n",
    "def convertDateToGMT_3(data):\n",
    "    \"\"\"Converts a datetime object to GMT-3.\n",
    "        Args:\n",
    "         date: A datetime object.\n",
    "\n",
    "        Returns:\n",
    "         A new datetime object representing the date in GMT-3.\n",
    "    \"\"\"\n",
    "    fuso_gmt_menos3 = timedelta(hours=-3)\n",
    "    return data + fuso_gmt_menos3\n",
    "\n",
    "def orderTagsByLastUpdate(tags):\n",
    "    \"\"\"Sorts a list of tags by last updated date in descending order.\n",
    "\n",
    "       Args:\n",
    "           tags: List of dictionaries containing tags, each with the keys 'tag_name' and 'last_update'.\n",
    "\n",
    "       Returns:\n",
    "           List of tags sorted by last updated date in descending order.\n",
    "    \"\"\"\n",
    "    # Sort the list of tags using the 'last_update' key in descending order.\n",
    "    tags_ordenadas = sorted(tags, key=lambda tag: tag['last_update'], reverse=True)    \n",
    "    return tags_ordenadas\n",
    "\n",
    "def getTagsToDelete(tags):\n",
    "    \"\"\"Returns all items in a list except the first two,\n",
    "        with treatment for lists smaller than 3 items.\n",
    "\n",
    "       Args:\n",
    "           tags: List of items.\n",
    "\n",
    "       Returns:\n",
    "           List containing the items except the first two, or the original list if it has less than 3 items.\n",
    "    \"\"\"\n",
    "    if len(tags) < 3:\n",
    "        return []\n",
    "    else:\n",
    "        return tags[2:] # Returns items starting at index 2 (third item)"
   ]
  },
  {
   "cell_type": "code",
   "execution_count": null,
   "id": "426db1dd",
   "metadata": {},
   "outputs": [],
   "source": [
    "for repository in repositories:\n",
    "    manifests = client.list_tag_properties(repository[\"name\"])\n",
    "    tags = []\n",
    "    for manifest in manifests:\n",
    "        tags.append({'name': manifest.name, 'last_update': convertDateToGMT_3(manifest.last_updated_on)})\n",
    "    repository['tags'] = orderTagsByLastUpdate(tags)"
   ]
  },
  {
   "cell_type": "code",
   "execution_count": null,
   "id": "5741ad34",
   "metadata": {},
   "outputs": [],
   "source": [
    "#print(repositories)"
   ]
  },
  {
   "cell_type": "code",
   "execution_count": null,
   "id": "830b103f",
   "metadata": {},
   "outputs": [],
   "source": [
    "def deleteTag(repository_name, tag_name):\n",
    "    get_manifest_result = client.get_manifest(repository_name, tag_name)\n",
    "    # delete tag\n",
    "    client.delete_manifest(repository_name, get_manifest_result.digest)\n",
    "    print(f'tag: {repository_name}:{tag_name} deleted successfully')"
   ]
  },
  {
   "cell_type": "code",
   "execution_count": null,
   "id": "d5f00e0a",
   "metadata": {},
   "outputs": [],
   "source": [
    "for repository in repositories:\n",
    "    for tag in getTagsToDelete(repository['tags']):\n",
    "        deleteTag(repository['name'], tag['name'])"
   ]
  },
  {
   "cell_type": "code",
   "execution_count": null,
   "id": "7ba3b797",
   "metadata": {},
   "outputs": [],
   "source": []
  }
 ],
 "metadata": {
  "kernelspec": {
   "display_name": "Python 3 (ipykernel)",
   "language": "python",
   "name": "python3"
  },
  "language_info": {
   "codemirror_mode": {
    "name": "ipython",
    "version": 3
   },
   "file_extension": ".py",
   "mimetype": "text/x-python",
   "name": "python",
   "nbconvert_exporter": "python",
   "pygments_lexer": "ipython3",
   "version": "3.11.3"
  }
 },
 "nbformat": 4,
 "nbformat_minor": 5
}
